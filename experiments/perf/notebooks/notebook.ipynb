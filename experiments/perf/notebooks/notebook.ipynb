{
 "cells": [
  {
   "cell_type": "code",
   "id": "initial_id",
   "metadata": {
    "collapsed": true,
    "ExecuteTime": {
     "end_time": "2024-05-09T16:21:32.950131Z",
     "start_time": "2024-05-09T16:21:32.754019Z"
    }
   },
   "source": [
    "import pandas as pd\n",
    "from pathlib import Path\n",
    "import lightgbm as lgbm"
   ],
   "outputs": [],
   "execution_count": 1
  },
  {
   "cell_type": "code",
   "source": [
    "\n",
    "BASE_PATH = Path(\"../../../../ilmart-data\")\n",
    "df = pd.read_csv(BASE_PATH / \"perf/eval.csv\")"
   ],
   "metadata": {
    "collapsed": false,
    "ExecuteTime": {
     "end_time": "2024-05-09T16:21:32.954613Z",
     "start_time": "2024-05-09T16:21:32.950879Z"
    }
   },
   "id": "b194be219a141407",
   "outputs": [],
   "execution_count": 2
  },
  {
   "cell_type": "code",
   "source": [
    "df[[\"split\", \"model_type\"]] = df[\"exp_name\"].str.split('-', n=1, expand=True)"
   ],
   "metadata": {
    "collapsed": false,
    "ExecuteTime": {
     "end_time": "2024-05-09T16:21:32.958986Z",
     "start_time": "2024-05-09T16:21:32.956317Z"
    }
   },
   "id": "923efcd46efa0fc1",
   "outputs": [],
   "execution_count": 3
  },
  {
   "cell_type": "code",
   "source": [
    "df = df.drop(columns=\"exp_name\")"
   ],
   "metadata": {
    "collapsed": false,
    "ExecuteTime": {
     "end_time": "2024-05-09T16:21:33.282793Z",
     "start_time": "2024-05-09T16:21:33.280082Z"
    }
   },
   "id": "a75fa38c19f552e3",
   "outputs": [],
   "execution_count": 4
  },
  {
   "cell_type": "code",
   "source": [
    "df_grouped = df.groupby(by=[\"split\", \"model_type\", \"model\"]).agg({'time':['mean','std']})"
   ],
   "metadata": {
    "collapsed": false,
    "ExecuteTime": {
     "end_time": "2024-05-09T16:21:33.751505Z",
     "start_time": "2024-05-09T16:21:33.747568Z"
    }
   },
   "id": "ab0de8f34bd2a8cf",
   "outputs": [],
   "execution_count": 5
  },
  {
   "cell_type": "code",
   "source": [
    "# Computing the speedups\n",
    "df_grouped = df_grouped.reset_index()\n",
    "for split in df[\"split\"].unique():\n",
    "    for model_type in df[\"model_type\"].unique():\n",
    "        selector = (df_grouped[\"split\"] == split) & (df_grouped[\"model_type\"] == model_type)\n",
    "        df_split_model_type = df_grouped[selector]\n",
    "        baseline_time = df_split_model_type[df_split_model_type[\"model\"]==\"lightgbm\"][(\"time\", \"mean\")]\n",
    "        df_grouped.loc[selector, \"speedup\"] = baseline_time.values / df_split_model_type[(\"time\", \"mean\")].values"
   ],
   "metadata": {
    "collapsed": false,
    "ExecuteTime": {
     "end_time": "2024-05-09T16:21:34.383222Z",
     "start_time": "2024-05-09T16:21:34.369781Z"
    }
   },
   "id": "8b64fb0cdbd5700d",
   "outputs": [],
   "execution_count": 6
  },
  {
   "cell_type": "code",
   "source": [
    "# custom ordering\n",
    "df_grouped[\"split\"] = pd.Categorical( df_grouped[\"split\"], [\"train\", \"test\"])\n",
    "df_grouped[\"model_type\"] = pd.Categorical( df_grouped[\"model_type\"], [\"no-inter\", \"inter\"])\n",
    "df_grouped[\"model\"] = pd.Categorical( df_grouped[\"model\"], [\"lightgbm\", \"quickscorer\", \"ilmart\"])\n",
    "df_grouped = df_grouped.sort_values(by=[\"split\", \"model_type\", \"model\"])\n",
    "df_grouped = df_grouped.set_index(['split', 'model_type', 'model'])"
   ],
   "metadata": {
    "collapsed": false,
    "ExecuteTime": {
     "end_time": "2024-05-09T16:21:34.911477Z",
     "start_time": "2024-05-09T16:21:34.903233Z"
    }
   },
   "id": "18ef57a9ada18a14",
   "outputs": [],
   "execution_count": 7
  },
  {
   "cell_type": "code",
   "source": [
    "print(df_grouped.style.format({(\"speedup\", ''): '{:.2f}'}, decimal='.', thousands=',', precision=0).to_latex())"
   ],
   "metadata": {
    "collapsed": false,
    "ExecuteTime": {
     "end_time": "2024-05-09T16:21:35.443853Z",
     "start_time": "2024-05-09T16:21:35.392807Z"
    }
   },
   "id": "1a8a77015b0ef03c",
   "outputs": [
    {
     "name": "stdout",
     "output_type": "stream",
     "text": [
      "\\begin{tabular}{lllrrr}\n",
      " &  &  & \\multicolumn{2}{r}{time} & speedup \\\\\n",
      " &  &  & mean & std &  \\\\\n",
      "split & model_type & model &  &  &  \\\\\n",
      "\\multirow[c]{6}{*}{train} & \\multirow[c]{3}{*}{no-inter} & lightgbm & 301,504 & 7,509 & 1.00 \\\\\n",
      " &  & quickscorer & 44,790 & 159 & 6.73 \\\\\n",
      " &  & ilmart & 26,020 & 894 & 11.59 \\\\\n",
      " & \\multirow[c]{3}{*}{inter} & lightgbm & 416,676 & 11,945 & 1.00 \\\\\n",
      " &  & quickscorer & 69,805 & 609 & 5.97 \\\\\n",
      " &  & ilmart & 33,652 & 856 & 12.38 \\\\\n",
      "\\multirow[c]{6}{*}{test} & \\multirow[c]{3}{*}{no-inter} & lightgbm & 100,652 & 3,538 & 1.00 \\\\\n",
      " &  & quickscorer & 14,735 & 402 & 6.83 \\\\\n",
      " &  & ilmart & 8,691 & 172 & 11.58 \\\\\n",
      " & \\multirow[c]{3}{*}{inter} & lightgbm & 137,876 & 1,063 & 1.00 \\\\\n",
      " &  & quickscorer & 23,515 & 542 & 5.86 \\\\\n",
      " &  & ilmart & 11,347 & 458 & 12.15 \\\\\n",
      "\\end{tabular}\n",
      "\n"
     ]
    }
   ],
   "execution_count": 8
  },
  {
   "cell_type": "code",
   "source": "model_without_inter = lgbm.Booster(model_file=BASE_PATH / \"ft/web30k/greedy/no_inter.lgbm\")",
   "metadata": {
    "collapsed": false,
    "ExecuteTime": {
     "end_time": "2024-05-09T16:21:36.040995Z",
     "start_time": "2024-05-09T16:21:36.023972Z"
    }
   },
   "id": "1ef8d47c2883a0c0",
   "outputs": [],
   "execution_count": 9
  },
  {
   "metadata": {
    "ExecuteTime": {
     "end_time": "2024-05-09T16:21:36.732184Z",
     "start_time": "2024-05-09T16:21:36.727180Z"
    }
   },
   "cell_type": "code",
   "source": "model_without_inter.num_trees()",
   "id": "eb4e5366fd38b3cd",
   "outputs": [
    {
     "data": {
      "text/plain": [
       "1701"
      ]
     },
     "execution_count": 10,
     "metadata": {},
     "output_type": "execute_result"
    }
   ],
   "execution_count": 10
  },
  {
   "metadata": {
    "ExecuteTime": {
     "end_time": "2024-05-09T16:21:37.249766Z",
     "start_time": "2024-05-09T16:21:37.230433Z"
    }
   },
   "cell_type": "code",
   "source": "model_with_inter = lgbm.Booster(model_file=BASE_PATH / \"ft/web30k/greedy/inter_greedy.lgbm\")",
   "id": "359268968e9a4a53",
   "outputs": [],
   "execution_count": 11
  },
  {
   "metadata": {
    "ExecuteTime": {
     "end_time": "2024-05-09T16:21:37.708627Z",
     "start_time": "2024-05-09T16:21:37.706234Z"
    }
   },
   "cell_type": "code",
   "source": "model_with_inter.num_trees()",
   "id": "21615aec9543177d",
   "outputs": [
    {
     "data": {
      "text/plain": [
       "2423"
      ]
     },
     "execution_count": 12,
     "metadata": {},
     "output_type": "execute_result"
    }
   ],
   "execution_count": 12
  }
 ],
 "metadata": {
  "kernelspec": {
   "display_name": "Python 3",
   "language": "python",
   "name": "python3"
  },
  "language_info": {
   "codemirror_mode": {
    "name": "ipython",
    "version": 2
   },
   "file_extension": ".py",
   "mimetype": "text/x-python",
   "name": "python",
   "nbconvert_exporter": "python",
   "pygments_lexer": "ipython2",
   "version": "2.7.6"
  }
 },
 "nbformat": 4,
 "nbformat_minor": 5
}
