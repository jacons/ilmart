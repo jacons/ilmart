{
 "cells": [
  {
   "cell_type": "code",
   "execution_count": null,
   "metadata": {},
   "outputs": [],
   "source": [
    "import numpy as np\n",
    "import lightgbm as lgbm\n",
    "import seaborn as sns\n",
    "import matplotlib.pyplot as plt\n",
    "from ilmart.utils import is_interpretable\n",
    "from ilmart.ilmart_distill import IlmartDistill\n",
    "%load_ext autoreload\n",
    "%autoreload 2"
   ]
  },
  {
   "cell_type": "markdown",
   "metadata": {},
   "source": [
    "# Load Models"
   ]
  },
  {
   "cell_type": "code",
   "execution_count": null,
   "metadata": {},
   "outputs": [],
   "source": [
    "models_no_inter_dir = \"../best_models/ilmart/without_inter\"\n",
    "models_inter_dir = \"../best_models/ilmart/with_inter\"\n",
    "datasets_name = [\"web30k\", \"istella\", \"yahoo\"]"
   ]
  },
  {
   "cell_type": "code",
   "execution_count": null,
   "metadata": {},
   "outputs": [],
   "source": [
    "main_effects_booster = {}\n",
    "for name in datasets_name:\n",
    "    file_path = f\"{models_no_inter_dir}/{name}.lgbm\"\n",
    "    main_effects_booster[name] = lgbm.Booster(model_file=file_path)"
   ]
  },
  {
   "cell_type": "code",
   "execution_count": null,
   "outputs": [],
   "source": [
    "ilmart_booster = {}\n",
    "for name in datasets_name:\n",
    "    file_path = f\"{models_inter_dir}/{name}.lgbm\"\n",
    "    ilmart_booster[name] = lgbm.Booster(model_file=file_path)"
   ],
   "metadata": {
    "collapsed": false,
    "pycharm": {
     "name": "#%%\n"
    }
   }
  },
  {
   "cell_type": "markdown",
   "metadata": {},
   "source": [
    "# Check interpretability"
   ]
  },
  {
   "cell_type": "code",
   "execution_count": null,
   "metadata": {},
   "outputs": [],
   "source": [
    "for name, model in main_effects_booster.items():\n",
    "    print(f\"Checking features used by {name}... \")\n",
    "    print(f\"Is interpretable? {is_interpretable(model)}\")\n",
    "    print(f\"Number of trees: {model.num_trees()}\")"
   ]
  },
  {
   "cell_type": "code",
   "execution_count": null,
   "outputs": [],
   "source": [
    "for name, model in ilmart_booster.items():\n",
    "    print(f\"Checking features used by {name}... \")\n",
    "    print(f\"Is interpretable? {is_interpretable(model)}\")\n",
    "    print(f\"Number of trees: {model.num_trees()}\")\n"
   ],
   "metadata": {
    "collapsed": false,
    "pycharm": {
     "name": "#%%\n"
    }
   }
  },
  {
   "cell_type": "markdown",
   "source": [
    "## Plot first components of WEB30K best model"
   ],
   "metadata": {
    "collapsed": false
   }
  },
  {
   "cell_type": "code",
   "execution_count": null,
   "outputs": [],
   "source": [
    "best_web30k = lgbm.Booster(model_file=\"../best_models/ilmart/with_inter/web30k.lgbm\")\n",
    "distilled_web30k = IlmartDistill(best_web30k)"
   ],
   "metadata": {
    "collapsed": false,
    "pycharm": {
     "name": "#%%\n"
    }
   }
  },
  {
   "cell_type": "code",
   "execution_count": null,
   "outputs": [],
   "source": [
    "feat_imp = [(feat, imp) for feat, imp in enumerate(best_web30k.feature_importance())]"
   ],
   "metadata": {
    "collapsed": false,
    "pycharm": {
     "name": "#%%\n"
    }
   }
  },
  {
   "cell_type": "code",
   "execution_count": null,
   "outputs": [],
   "source": [
    "feat_imp.sort(key=lambda x: x[1], reverse=True)"
   ],
   "metadata": {
    "collapsed": false,
    "pycharm": {
     "name": "#%%\n"
    }
   }
  },
  {
   "cell_type": "code",
   "execution_count": null,
   "outputs": [],
   "source": [
    "ilmart_booster"
   ],
   "metadata": {
    "collapsed": false,
    "pycharm": {
     "name": "#%%\n"
    }
   }
  },
  {
   "cell_type": "code",
   "execution_count": null,
   "outputs": [],
   "source": [
    "feat_imp"
   ],
   "metadata": {
    "collapsed": false,
    "pycharm": {
     "name": "#%%\n"
    }
   }
  },
  {
   "cell_type": "code",
   "execution_count": null,
   "outputs": [],
   "source": [
    "feats_label = {\n",
    "    129: \"Outlink number\",\n",
    "    133: \"QualityScore2\",\n",
    "    114: \"LMIR.ABS-title\",\n",
    "    134: \"Query-url click count\"\n",
    "}"
   ],
   "metadata": {
    "collapsed": false,
    "pycharm": {
     "name": "#%%\n"
    }
   }
  },
  {
   "cell_type": "code",
   "execution_count": null,
   "outputs": [],
   "source": [
    "\n",
    "plt.rcParams.update({'font.size': 25})\n",
    "\n",
    "x_lims = [(0.01, 0.80), (0.01, 0.50), (0.01, 0.99)]\n",
    "fig, axs = plt.subplots(2, 2, figsize=(13, 10))\n",
    "feats_label = {\n",
    "    129: \"PR\",\n",
    "    133: \"QUCC\",\n",
    "    114: \"LMIR\",\n",
    "    134: \"UCC\"\n",
    "}\n",
    "for i, (feat, imp) in enumerate(feat_imp[:3]):\n",
    "    current_ax = axs[i // 2][i % 2]\n",
    "    x = distilled_web30k.splitting_values[feat]\n",
    "    y = np.append(distilled_web30k.hist[(feat,)], distilled_web30k.hist[(feat,)][-1])\n",
    "    sns.lineplot(x,y, drawstyle='steps-pre', ax=current_ax)\n",
    "    current_ax.set_ylabel(r\"$\\tau(x_j)$\", rotation=0)\n",
    "    current_ax.yaxis.set_label_coords(-0.1,1.02)\n",
    "    current_ax.set_xlim(np.quantile(x, x_lims[i][0]), np.quantile(x, x_lims[i][1]))\n",
    "    current_ax.set_title(f\"{feats_label[feat]}\")\n",
    "    current_ax.set_xlabel(\"$x_j$\")\n",
    "\n",
    "current_ax = axs[1][1]\n",
    "\n",
    "current_ax.text(300, 0, r\"$\\tau_{ij}(x_i, x_j)$\")\n",
    "\n",
    "feat1 = 133\n",
    "feat2 = 134\n",
    "cropped_matrix = np.rot90(distilled_web30k.hist[(feat1, feat2)])\n",
    "splits_feat1 = distilled_web30k.splitting_values[feat1]\n",
    "splits_feat2 = distilled_web30k.splitting_values[feat2]\n",
    "sns.heatmap(cropped_matrix,\n",
    "            ax=current_ax,\n",
    "            cmap=\"Blues\",\n",
    "            cbar_kws = dict(location=\"right\", anchor=(0.5, .4), pad=0))\n",
    "current_ax.set_xlabel(f\"$x_i$\\t{feats_label[feat1]}\")\n",
    "current_ax.set_ylabel(f\"$x_j$\\t{feats_label[feat2]}\", rotation=0)\n",
    "current_ax.yaxis.set_label_coords(-0.1,1.02)\n",
    "\n",
    "\n",
    "\n",
    "crop = [0.1, 0.9]\n",
    "\n",
    "reduced_yticks = np.quantile(range(cropped_matrix.shape[0]), crop)\n",
    "reduced_ylabels = np.quantile(splits_feat1[:-1], crop)[::-1]\n",
    "\n",
    "reduced_xticks = np.quantile(range(cropped_matrix.shape[1]), crop)\n",
    "reduced_xlabels = np.quantile(splits_feat2[:-1], crop)\n",
    "\n",
    "\n",
    "current_ax.set_yticks(reduced_yticks, labels=[f\"{label:.1E}\" for label in reduced_ylabels])\n",
    "current_ax.set_xticks(reduced_xticks, labels=[f\"{label:.1E}\" for label in reduced_xlabels])\n",
    "\n",
    "current_ax.xaxis.set_tick_params(rotation=0)\n",
    "current_ax.yaxis.set_tick_params(rotation=0)\n",
    "\n",
    "\n",
    "plt.tight_layout()\n",
    "#plt.savefig(\"plots/function_plots.pdf\")"
   ],
   "metadata": {
    "collapsed": false,
    "pycharm": {
     "name": "#%%\n"
    }
   }
  }
 ],
 "metadata": {
  "kernelspec": {
   "name": "python3",
   "language": "python",
   "display_name": "Python 3 (ipykernel)"
  },
  "language_info": {
   "codemirror_mode": {
    "name": "ipython",
    "version": 3
   },
   "file_extension": ".py",
   "mimetype": "text/x-python",
   "name": "python",
   "nbconvert_exporter": "python",
   "pygments_lexer": "ipython3",
   "version": "3.8.12"
  }
 },
 "nbformat": 4,
 "nbformat_minor": 4
}