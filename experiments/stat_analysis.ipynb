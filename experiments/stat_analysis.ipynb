{
 "cells": [
  {
   "cell_type": "code",
   "execution_count": null,
   "metadata": {},
   "outputs": [],
   "source": [
    "import pickle\n",
    "import numpy as np\n",
    "from rankeval.analysis.statistical import _randomization"
   ]
  },
  {
   "cell_type": "code",
   "execution_count": null,
   "outputs": [],
   "source": [
    "base_dir = \"results/ndcg\""
   ],
   "metadata": {
    "collapsed": false,
    "pycharm": {
     "name": "#%%\n"
    }
   }
  },
  {
   "cell_type": "code",
   "execution_count": null,
   "metadata": {},
   "outputs": [],
   "source": [
    "files = [\"nrgam\", \"ebm\", \"ebm_i\", \"ilmart\", \"ilmart_i\"]\n",
    "datasets = [\"web30k\", \"yahoo\", \"istella\"]\n",
    "res = {}\n",
    "for file in files:\n",
    "    with open(f\"{base_dir}/{file}.pickle\", \"rb\") as f:\n",
    "        res[file] = pickle.load(f)\n"
   ]
  },
  {
   "cell_type": "code",
   "execution_count": null,
   "metadata": {},
   "outputs": [],
   "source": [
    "for ds_name in datasets:\n",
    "    print(f\"############# {ds_name} ##########\")\n",
    "    for name in files:\n",
    "        ndcg_cutoffs = res[name][ds_name]\n",
    "        print(f\"{name} results\")\n",
    "        for cutoff, values in ndcg_cutoffs.items():\n",
    "            print(f\"NDCG@{cutoff}: {round(np.mean(values)*100, 2)}%\", end=\" \")\n",
    "        print()"
   ]
  },
  {
   "cell_type": "code",
   "execution_count": null,
   "metadata": {
    "pycharm": {
     "name": "#%%\n"
    }
   },
   "outputs": [],
   "source": [
    "for name, ndcg_res in res.items():\n",
    "    if name == \"nrgam\":\n",
    "        continue\n",
    "    print(f\"{name} Statistical significance check\")\n",
    "    for ds_name, ndcg_cutoffs in ndcg_res.items():\n",
    "        print(f\"############# {ds_name} ##########\")\n",
    "        for cutoff, values in ndcg_cutoffs.items():\n",
    "            if np.mean(values) > np.mean(res[\"nrgam\"][ds_name][cutoff]):\n",
    "                print(f\"The value of NDCG for the cutoff {cutoff} is greater, and the p-values are:\")\n",
    "                print(_randomization(np.array(values), np.array(res[\"nrgam\"][ds_name][cutoff])))"
   ]
  }
 ],
 "metadata": {
  "kernelspec": {
   "display_name": "Python 3 (ipykernel)",
   "language": "python",
   "name": "python3"
  },
  "language_info": {
   "codemirror_mode": {
    "name": "ipython",
    "version": 3
   },
   "file_extension": ".py",
   "mimetype": "text/x-python",
   "name": "python",
   "nbconvert_exporter": "python",
   "pygments_lexer": "ipython3",
   "version": "3.9.12"
  }
 },
 "nbformat": 4,
 "nbformat_minor": 4
}